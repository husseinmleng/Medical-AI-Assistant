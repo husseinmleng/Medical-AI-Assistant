{
 "cells": [
  {
   "cell_type": "code",
   "execution_count": 2,
   "id": "e488e5f7",
   "metadata": {},
   "outputs": [
    {
     "name": "stdout",
     "output_type": "stream",
     "text": [
      "Classification Report:\n",
      "\n",
      "              precision    recall  f1-score   support\n",
      "\n",
      "    Negative       0.87      0.98      0.92        95\n",
      "    Positive       0.98      0.87      0.92       105\n",
      "\n",
      "    accuracy                           0.92       200\n",
      "   macro avg       0.92      0.92      0.92       200\n",
      "weighted avg       0.93      0.92      0.92       200\n",
      "\n",
      "✅ Model and encoders saved.\n"
     ]
    }
   ],
   "source": [
    "import pandas as pd\n",
    "from sklearn.model_selection import train_test_split\n",
    "from sklearn.ensemble import RandomForestClassifier\n",
    "from sklearn.preprocessing import LabelEncoder\n",
    "from sklearn.metrics import classification_report\n",
    "import joblib\n",
    "\n",
    "# Load the dataset (assuming it's already in a DataFrame `df`)\n",
    "# If not, load from CSV: df = pd.read_csv(\"your_dataset.csv\")\n",
    "df = pd.read_csv(\"Synthetic_Breast_Cancer_Dataset.csv\")\n",
    "\n",
    "# --- 2. Encode categorical features ---\n",
    "categorical_cols = df.select_dtypes(include=[\"object\", \"bool\"]).columns.tolist()\n",
    "categorical_cols.remove(\"diagnosis\")  # Target column\n",
    "\n",
    "encoders = {}\n",
    "for col in categorical_cols:\n",
    "    le = LabelEncoder()\n",
    "    df[col] = le.fit_transform(df[col])\n",
    "    encoders[col] = le\n",
    "\n",
    "# Encode target column\n",
    "target_encoder = LabelEncoder()\n",
    "df[\"diagnosis\"] = target_encoder.fit_transform(df[\"diagnosis\"])  # Positive=1, Negative=0\n",
    "\n",
    "# --- 3. Split into features and target ---\n",
    "X = df.drop(columns=[\"diagnosis\"])\n",
    "y = df[\"diagnosis\"]\n",
    "\n",
    "# --- 4. Train-test split ---\n",
    "X_train, X_test, y_train, y_test = train_test_split(X, y, test_size=0.2, random_state=42)\n",
    "\n",
    "# --- 5. Train Random Forest Model ---\n",
    "rf_model = RandomForestClassifier(n_estimators=100, random_state=42)\n",
    "rf_model.fit(X_train, y_train)\n",
    "\n",
    "# --- 6. Evaluate ---\n",
    "y_pred = rf_model.predict(X_test)\n",
    "print(\"Classification Report:\\n\")\n",
    "print(classification_report(y_test, y_pred, target_names=target_encoder.classes_))\n",
    "\n",
    "# --- 7. Save model and encoders ---\n",
    "joblib.dump(rf_model, \"rf_breast_cancer_model.joblib\")\n",
    "joblib.dump(encoders, \"rf_feature_encoders.joblib\")\n",
    "joblib.dump(target_encoder, \"rf_target_encoder.joblib\")\n",
    "\n",
    "print(\"✅ Model and encoders saved.\")\n"
   ]
  },
  {
   "cell_type": "code",
   "execution_count": 3,
   "id": "26f032f2",
   "metadata": {},
   "outputs": [
    {
     "data": {
      "text/plain": [
       "['rf_feature_imputer.joblib']"
      ]
     },
     "execution_count": 3,
     "metadata": {},
     "output_type": "execute_result"
    }
   ],
   "source": [
    "from sklearn.impute import KNNImputer\n",
    "\n",
    "# Train imputer on full feature matrix\n",
    "imputer = KNNImputer(n_neighbors=5)\n",
    "imputer.fit(X)\n",
    "\n",
    "# Save the imputer\n",
    "joblib.dump(imputer, \"rf_feature_imputer.joblib\")\n"
   ]
  },
  {
   "cell_type": "code",
   "execution_count": 4,
   "id": "a9cc1f84",
   "metadata": {},
   "outputs": [
    {
     "data": {
      "text/plain": [
       "['important_features.joblib']"
      ]
     },
     "execution_count": 4,
     "metadata": {},
     "output_type": "execute_result"
    }
   ],
   "source": [
    "# After training\n",
    "joblib.dump(rf_model, \"rf_model.joblib\")\n",
    "joblib.dump(imputer, \"knn_imputer.joblib\")\n",
    "joblib.dump(X.columns.tolist(), \"feature_names.joblib\")\n",
    "\n",
    "# Get top N features (e.g., 7)\n",
    "importances = rf_model.feature_importances_\n",
    "top_features = pd.Series(importances, index=X.columns).sort_values(ascending=False).head(7).index.tolist()\n",
    "joblib.dump(top_features, \"important_features.joblib\")\n",
    "\n"
   ]
  },
  {
   "cell_type": "code",
   "execution_count": 5,
   "id": "93fa8ccc",
   "metadata": {},
   "outputs": [
    {
     "data": {
      "text/plain": [
       "['relative_diagnosis_age',\n",
       " 'family_history_breast_cancer',\n",
       " 'recent_weight_loss',\n",
       " 'previous_breast_conditions',\n",
       " 'symptom_duration_days',\n",
       " 'fatigue',\n",
       " 'breastfeeding_months']"
      ]
     },
     "execution_count": 5,
     "metadata": {},
     "output_type": "execute_result"
    }
   ],
   "source": [
    "top_features"
   ]
  },
  {
   "cell_type": "code",
   "execution_count": null,
   "id": "ad8d8af3",
   "metadata": {},
   "outputs": [],
   "source": []
  }
 ],
 "metadata": {
  "kernelspec": {
   "display_name": "VisRAG",
   "language": "python",
   "name": "python3"
  },
  "language_info": {
   "codemirror_mode": {
    "name": "ipython",
    "version": 3
   },
   "file_extension": ".py",
   "mimetype": "text/x-python",
   "name": "python",
   "nbconvert_exporter": "python",
   "pygments_lexer": "ipython3",
   "version": "3.10.15"
  }
 },
 "nbformat": 4,
 "nbformat_minor": 5
}
